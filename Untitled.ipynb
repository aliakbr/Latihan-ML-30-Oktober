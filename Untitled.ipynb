{
 "cells": [
  {
   "cell_type": "code",
   "execution_count": 1,
   "metadata": {
    "collapsed": true
   },
   "outputs": [],
   "source": [
    "import pandas as pd\n",
    "import matplotlib.pyplot as plt \n",
    "import graphviz\n",
    "import numpy as np\n",
    "from sklearn import tree\n",
    "from sklearn.neural_network import MLPClassifier\n",
    "from sklearn.model_selection import train_test_split, KFold, cross_val_score\n",
    "from sklearn.metrics import accuracy_score, confusion_matrix"
   ]
  },
  {
   "cell_type": "code",
   "execution_count": 2,
   "metadata": {},
   "outputs": [
    {
     "name": "stdout",
     "output_type": "stream",
     "text": [
      "   age          workclass   fnlwgt   education   education-num  \\\n",
      "0   39          State-gov    77516   Bachelors              13   \n",
      "1   50   Self-emp-not-inc    83311   Bachelors              13   \n",
      "2   38            Private   215646     HS-grad               9   \n",
      "3   53            Private   234721        11th               7   \n",
      "4   28            Private   338409   Bachelors              13   \n",
      "\n",
      "        marital-status          occupation    relationship    race      sex  \\\n",
      "0        Never-married        Adm-clerical   Not-in-family   White     Male   \n",
      "1   Married-civ-spouse     Exec-managerial         Husband   White     Male   \n",
      "2             Divorced   Handlers-cleaners   Not-in-family   White     Male   \n",
      "3   Married-civ-spouse   Handlers-cleaners         Husband   Black     Male   \n",
      "4   Married-civ-spouse      Prof-specialty            Wife   Black   Female   \n",
      "\n",
      "    capital-gain   capital-loss   hours-per-week  native-country  income  \n",
      "0           2174              0               40   United-States   <=50K  \n",
      "1              0              0               13   United-States   <=50K  \n",
      "2              0              0               40   United-States   <=50K  \n",
      "3              0              0               40   United-States   <=50K  \n",
      "4              0              0               40            Cuba   <=50K  \n"
     ]
    }
   ],
   "source": [
    "pd1 = pd.read_csv('DatasetEksperimen/CensusIncome/CencusIncome.data.csv')\n",
    "print(pd1.head())"
   ]
  },
  {
   "cell_type": "code",
   "execution_count": 3,
   "metadata": {},
   "outputs": [
    {
     "data": {
      "text/html": [
       "<div>\n",
       "<style>\n",
       "    .dataframe thead tr:only-child th {\n",
       "        text-align: right;\n",
       "    }\n",
       "\n",
       "    .dataframe thead th {\n",
       "        text-align: left;\n",
       "    }\n",
       "\n",
       "    .dataframe tbody tr th {\n",
       "        vertical-align: top;\n",
       "    }\n",
       "</style>\n",
       "<table border=\"1\" class=\"dataframe\">\n",
       "  <thead>\n",
       "    <tr style=\"text-align: right;\">\n",
       "      <th></th>\n",
       "      <th>age</th>\n",
       "      <th>workclass</th>\n",
       "      <th>fnlwgt</th>\n",
       "      <th>education-num</th>\n",
       "      <th>marital-status</th>\n",
       "      <th>occupation</th>\n",
       "      <th>relationship</th>\n",
       "      <th>race</th>\n",
       "      <th>sex</th>\n",
       "      <th>capital-gain</th>\n",
       "      <th>capital-loss</th>\n",
       "      <th>hours-per-week</th>\n",
       "      <th>native-country</th>\n",
       "      <th>income</th>\n",
       "    </tr>\n",
       "  </thead>\n",
       "  <tbody>\n",
       "    <tr>\n",
       "      <th>0</th>\n",
       "      <td>39</td>\n",
       "      <td>State-gov</td>\n",
       "      <td>77516</td>\n",
       "      <td>13</td>\n",
       "      <td>Never-married</td>\n",
       "      <td>Adm-clerical</td>\n",
       "      <td>Not-in-family</td>\n",
       "      <td>White</td>\n",
       "      <td>Male</td>\n",
       "      <td>2174</td>\n",
       "      <td>0</td>\n",
       "      <td>40</td>\n",
       "      <td>United-States</td>\n",
       "      <td>&lt;=50K</td>\n",
       "    </tr>\n",
       "    <tr>\n",
       "      <th>1</th>\n",
       "      <td>50</td>\n",
       "      <td>Self-emp-not-inc</td>\n",
       "      <td>83311</td>\n",
       "      <td>13</td>\n",
       "      <td>Married-civ-spouse</td>\n",
       "      <td>Exec-managerial</td>\n",
       "      <td>Husband</td>\n",
       "      <td>White</td>\n",
       "      <td>Male</td>\n",
       "      <td>0</td>\n",
       "      <td>0</td>\n",
       "      <td>13</td>\n",
       "      <td>United-States</td>\n",
       "      <td>&lt;=50K</td>\n",
       "    </tr>\n",
       "    <tr>\n",
       "      <th>2</th>\n",
       "      <td>38</td>\n",
       "      <td>Private</td>\n",
       "      <td>215646</td>\n",
       "      <td>9</td>\n",
       "      <td>Divorced</td>\n",
       "      <td>Handlers-cleaners</td>\n",
       "      <td>Not-in-family</td>\n",
       "      <td>White</td>\n",
       "      <td>Male</td>\n",
       "      <td>0</td>\n",
       "      <td>0</td>\n",
       "      <td>40</td>\n",
       "      <td>United-States</td>\n",
       "      <td>&lt;=50K</td>\n",
       "    </tr>\n",
       "    <tr>\n",
       "      <th>3</th>\n",
       "      <td>53</td>\n",
       "      <td>Private</td>\n",
       "      <td>234721</td>\n",
       "      <td>7</td>\n",
       "      <td>Married-civ-spouse</td>\n",
       "      <td>Handlers-cleaners</td>\n",
       "      <td>Husband</td>\n",
       "      <td>Black</td>\n",
       "      <td>Male</td>\n",
       "      <td>0</td>\n",
       "      <td>0</td>\n",
       "      <td>40</td>\n",
       "      <td>United-States</td>\n",
       "      <td>&lt;=50K</td>\n",
       "    </tr>\n",
       "    <tr>\n",
       "      <th>4</th>\n",
       "      <td>28</td>\n",
       "      <td>Private</td>\n",
       "      <td>338409</td>\n",
       "      <td>13</td>\n",
       "      <td>Married-civ-spouse</td>\n",
       "      <td>Prof-specialty</td>\n",
       "      <td>Wife</td>\n",
       "      <td>Black</td>\n",
       "      <td>Female</td>\n",
       "      <td>0</td>\n",
       "      <td>0</td>\n",
       "      <td>40</td>\n",
       "      <td>Cuba</td>\n",
       "      <td>&lt;=50K</td>\n",
       "    </tr>\n",
       "  </tbody>\n",
       "</table>\n",
       "</div>"
      ],
      "text/plain": [
       "   age          workclass   fnlwgt   education-num       marital-status  \\\n",
       "0   39          State-gov    77516              13        Never-married   \n",
       "1   50   Self-emp-not-inc    83311              13   Married-civ-spouse   \n",
       "2   38            Private   215646               9             Divorced   \n",
       "3   53            Private   234721               7   Married-civ-spouse   \n",
       "4   28            Private   338409              13   Married-civ-spouse   \n",
       "\n",
       "           occupation    relationship    race      sex   capital-gain  \\\n",
       "0        Adm-clerical   Not-in-family   White     Male           2174   \n",
       "1     Exec-managerial         Husband   White     Male              0   \n",
       "2   Handlers-cleaners   Not-in-family   White     Male              0   \n",
       "3   Handlers-cleaners         Husband   Black     Male              0   \n",
       "4      Prof-specialty            Wife   Black   Female              0   \n",
       "\n",
       "    capital-loss   hours-per-week  native-country  income  \n",
       "0              0               40   United-States   <=50K  \n",
       "1              0               13   United-States   <=50K  \n",
       "2              0               40   United-States   <=50K  \n",
       "3              0               40   United-States   <=50K  \n",
       "4              0               40            Cuba   <=50K  "
      ]
     },
     "execution_count": 3,
     "metadata": {},
     "output_type": "execute_result"
    }
   ],
   "source": [
    "pd1 = pd1.drop(' education', axis=1)\n",
    "pd1.head()"
   ]
  },
  {
   "cell_type": "code",
   "execution_count": 4,
   "metadata": {},
   "outputs": [],
   "source": [
    "for i in pd1.index.values.tolist():\n",
    "    if pd1.iloc[i][' sex'] == ' Female':\n",
    "        pd1.set_value(i, ' sex', 0)\n",
    "    else:\n",
    "        pd1.set_value(i, ' sex', 1)"
   ]
  },
  {
   "cell_type": "code",
   "execution_count": 5,
   "metadata": {},
   "outputs": [],
   "source": [
    "for i in pd1.index.values.tolist():\n",
    "    if pd1.iloc[i][' workclass'] == ' State-gov':\n",
    "        pd1.set_value(i, ' State-gov', 1)\n",
    "    else:\n",
    "        pd1.set_value(i, ' State-gov', 0)"
   ]
  },
  {
   "cell_type": "code",
   "execution_count": 6,
   "metadata": {},
   "outputs": [],
   "source": [
    "for i in pd1.index.values.tolist():\n",
    "    if pd1.iloc[i][' workclass'] == ' Self-emp-not-inc':\n",
    "        pd1.set_value(i, ' Self-emp-not-inc', 1)\n",
    "    else:\n",
    "        pd1.set_value(i, ' Self-emp-not-inc', 0)"
   ]
  },
  {
   "cell_type": "code",
   "execution_count": 7,
   "metadata": {},
   "outputs": [],
   "source": [
    "for i in pd1.index.values.tolist():\n",
    "    if pd1.iloc[i][' workclass'] == ' Private':\n",
    "        pd1.set_value(i, ' Private', 1)\n",
    "    elif pd1.iloc[i][' workclass'] == ' ?':\n",
    "        pd1.set_value(i, ' Private', 1)\n",
    "    else:\n",
    "        pd1.set_value(i, ' Private', 0)"
   ]
  },
  {
   "cell_type": "code",
   "execution_count": 8,
   "metadata": {},
   "outputs": [],
   "source": [
    "for i in pd1.index.values.tolist():\n",
    "    if pd1.iloc[i][' workclass'] == ' Self-emp-inc':\n",
    "        pd1.set_value(i, ' Self-emp-inc', 1)\n",
    "    else:\n",
    "        pd1.set_value(i, ' Self-emp-inc', 0)"
   ]
  },
  {
   "cell_type": "code",
   "execution_count": 9,
   "metadata": {},
   "outputs": [],
   "source": [
    "for i in pd1.index.values.tolist():\n",
    "    if pd1.iloc[i][' workclass'] == ' Federal-gov':\n",
    "        pd1.set_value(i, ' Federal-gov', 1)\n",
    "    else:\n",
    "        pd1.set_value(i, ' Federal-gov', 0)"
   ]
  },
  {
   "cell_type": "code",
   "execution_count": 10,
   "metadata": {},
   "outputs": [],
   "source": [
    "for i in pd1.index.values.tolist():\n",
    "    if pd1.iloc[i][' workclass'] == ' Local-gov':\n",
    "        pd1.set_value(i, ' Local-gov', 1)\n",
    "    else:\n",
    "        pd1.set_value(i, ' Local-gov', 0)"
   ]
  },
  {
   "cell_type": "code",
   "execution_count": 11,
   "metadata": {},
   "outputs": [],
   "source": [
    "for i in pd1.index.values.tolist():\n",
    "    if pd1.iloc[i][' workclass'] == ' Without-pay':\n",
    "        pd1.set_value(i, ' Without-pay', 1)\n",
    "    else:\n",
    "        pd1.set_value(i, ' Without-pay', 0)"
   ]
  },
  {
   "cell_type": "code",
   "execution_count": 12,
   "metadata": {},
   "outputs": [],
   "source": [
    "for i in pd1.index.values.tolist():\n",
    "    if pd1.iloc[i][' workclass'] == ' Never-worked':\n",
    "        pd1.set_value(i, ' Never-worked', 1)\n",
    "    else:\n",
    "        pd1.set_value(i, ' Never-worked', 0)"
   ]
  },
  {
   "cell_type": "code",
   "execution_count": 13,
   "metadata": {
    "collapsed": true
   },
   "outputs": [],
   "source": [
    "for i in pd1.index.values.tolist():\n",
    "    if pd1.iloc[i][' marital-status'] == ' Married-civ-spouse':\n",
    "        pd1.set_value(i, ' Married-civ-spouse', 1)\n",
    "    elif pd1.iloc[i][' workclass'] == ' ?':\n",
    "        pd1.set_value(i, ' Married-civ-spouse', 1)\n",
    "    else:\n",
    "        pd1.set_value(i, ' Married-civ-spouse', 0)"
   ]
  },
  {
   "cell_type": "code",
   "execution_count": 14,
   "metadata": {
    "collapsed": true
   },
   "outputs": [],
   "source": [
    "for i in pd1.index.values.tolist():\n",
    "    if pd1.iloc[i][' marital-status'] == ' Divorced':\n",
    "        pd1.set_value(i, ' Divorced', 1)\n",
    "    else:\n",
    "        pd1.set_value(i, ' Divorced', 0)"
   ]
  },
  {
   "cell_type": "code",
   "execution_count": 15,
   "metadata": {
    "collapsed": true
   },
   "outputs": [],
   "source": [
    "for i in pd1.index.values.tolist():\n",
    "    if pd1.iloc[i][' marital-status'] == ' Never-married':\n",
    "        pd1.set_value(i, ' Never-married', 1)\n",
    "    else:\n",
    "        pd1.set_value(i, ' Never-married', 0)"
   ]
  },
  {
   "cell_type": "code",
   "execution_count": 16,
   "metadata": {
    "collapsed": true
   },
   "outputs": [],
   "source": [
    "for i in pd1.index.values.tolist():\n",
    "    if pd1.iloc[i][' marital-status'] == ' Separated':\n",
    "        pd1.set_value(i, ' Separated', 1)\n",
    "    else:\n",
    "        pd1.set_value(i, ' Separated', 0)"
   ]
  },
  {
   "cell_type": "code",
   "execution_count": 17,
   "metadata": {
    "collapsed": true
   },
   "outputs": [],
   "source": [
    "for i in pd1.index.values.tolist():\n",
    "    if pd1.iloc[i][' marital-status'] == ' Widowed':\n",
    "        pd1.set_value(i, ' Widowed', 1)\n",
    "    else:\n",
    "        pd1.set_value(i, ' Widowed', 0)"
   ]
  },
  {
   "cell_type": "code",
   "execution_count": 18,
   "metadata": {
    "collapsed": true
   },
   "outputs": [],
   "source": [
    "for i in pd1.index.values.tolist():\n",
    "    if pd1.iloc[i][' marital-status'] == ' Married-spouse-absent':\n",
    "        pd1.set_value(i, ' Married-spouse-absent', 1)\n",
    "    else:\n",
    "        pd1.set_value(i, ' Married-spouse-absent', 0)"
   ]
  },
  {
   "cell_type": "code",
   "execution_count": 19,
   "metadata": {
    "collapsed": true
   },
   "outputs": [],
   "source": [
    "for i in pd1.index.values.tolist():\n",
    "    if pd1.iloc[i][' marital-status'] == ' Married-AF-spouse':\n",
    "        pd1.set_value(i,  'Married-AF-spouse', 1)\n",
    "    else:\n",
    "        pd1.set_value(i, ' Married-AF-spouse', 0)"
   ]
  },
  {
   "cell_type": "code",
   "execution_count": 20,
   "metadata": {
    "collapsed": true
   },
   "outputs": [],
   "source": [
    "for i in pd1.index.values.tolist():\n",
    "    if pd1.iloc[i][' occupation'] == ' Tech-support':\n",
    "        pd1.set_value(i, ' Tech-support', 1)\n",
    "    else:\n",
    "        pd1.set_value(i, ' Tech-support', 0)"
   ]
  },
  {
   "cell_type": "code",
   "execution_count": 21,
   "metadata": {
    "collapsed": true
   },
   "outputs": [],
   "source": [
    "for i in pd1.index.values.tolist():\n",
    "    if pd1.iloc[i][' occupation'] == ' Craft-repair':\n",
    "        pd1.set_value(i, ' Craft-repair', 1)\n",
    "    else:\n",
    "        pd1.set_value(i, ' Craft-repair', 0)"
   ]
  },
  {
   "cell_type": "code",
   "execution_count": 22,
   "metadata": {
    "collapsed": true
   },
   "outputs": [],
   "source": [
    "for i in pd1.index.values.tolist():\n",
    "    if pd1.iloc[i][' occupation'] == ' Other-service':\n",
    "        pd1.set_value(i, ' Other-service', 1)\n",
    "    elif pd1.iloc[i][' occupation'] == ' ?':\n",
    "        pd1.set_value(i, ' Other-service', 1)\n",
    "    else:\n",
    "        pd1.set_value(i, ' Other-service', 0)"
   ]
  },
  {
   "cell_type": "code",
   "execution_count": 23,
   "metadata": {
    "collapsed": true
   },
   "outputs": [],
   "source": [
    "for i in pd1.index.values.tolist():\n",
    "    if pd1.iloc[i][' occupation'] == ' Sales':\n",
    "        pd1.set_value(i, ' Sales', 1)\n",
    "    else:\n",
    "        pd1.set_value(i, ' Sales', 0)"
   ]
  },
  {
   "cell_type": "code",
   "execution_count": 24,
   "metadata": {
    "collapsed": true
   },
   "outputs": [],
   "source": [
    "for i in pd1.index.values.tolist():\n",
    "    if pd1.iloc[i][' occupation'] == ' Exec-managerial':\n",
    "        pd1.set_value(i, ' Exec-managerial', 1)\n",
    "    else:\n",
    "        pd1.set_value(i, ' Exec-managerial', 0)"
   ]
  },
  {
   "cell_type": "code",
   "execution_count": 25,
   "metadata": {
    "collapsed": true
   },
   "outputs": [],
   "source": [
    "for i in pd1.index.values.tolist():\n",
    "    if pd1.iloc[i][' occupation'] == ' Prof-specialty':\n",
    "        pd1.set_value(i, ' Prof-specialty', 1)\n",
    "    else:\n",
    "        pd1.set_value(i, ' Prof-specialty', 0)"
   ]
  },
  {
   "cell_type": "code",
   "execution_count": 26,
   "metadata": {
    "collapsed": true
   },
   "outputs": [],
   "source": [
    "for i in pd1.index.values.tolist():\n",
    "    if pd1.iloc[i][' occupation'] == ' Handlers-cleaners':\n",
    "        pd1.set_value(i, ' Handlers-cleaners', 1)\n",
    "    else:\n",
    "        pd1.set_value(i, ' Handlers-cleaners', 0)"
   ]
  },
  {
   "cell_type": "code",
   "execution_count": 27,
   "metadata": {
    "collapsed": true
   },
   "outputs": [],
   "source": [
    "for i in pd1.index.values.tolist():\n",
    "    if pd1.iloc[i][' occupation'] == ' Machine-op-inspct':\n",
    "        pd1.set_value(i, ' Machine-op-inspct', 1)\n",
    "    else:\n",
    "        pd1.set_value(i, ' Machine-op-inspct', 0)"
   ]
  },
  {
   "cell_type": "code",
   "execution_count": 28,
   "metadata": {
    "collapsed": true
   },
   "outputs": [],
   "source": [
    "for i in pd1.index.values.tolist():\n",
    "    if pd1.iloc[i][' occupation'] == ' Adm-clerical':\n",
    "        pd1.set_value(i, ' Adm-clerical', 1)\n",
    "    else:\n",
    "        pd1.set_value(i, ' Adm-clerical', 0)"
   ]
  },
  {
   "cell_type": "code",
   "execution_count": 29,
   "metadata": {
    "collapsed": true
   },
   "outputs": [],
   "source": [
    "for i in pd1.index.values.tolist():\n",
    "    if pd1.iloc[i][' occupation'] == ' Farming-fishing':\n",
    "        pd1.set_value(i, ' Farming-fishing', 1)\n",
    "    else:\n",
    "        pd1.set_value(i, ' Farming-fishing', 0)"
   ]
  },
  {
   "cell_type": "code",
   "execution_count": 30,
   "metadata": {
    "collapsed": true
   },
   "outputs": [],
   "source": [
    "for i in pd1.index.values.tolist():\n",
    "    if pd1.iloc[i][' occupation'] == ' Transport-moving':\n",
    "        pd1.set_value(i, ' Transport-moving', 1)\n",
    "    else:\n",
    "        pd1.set_value(i, ' Transport-moving', 0)"
   ]
  },
  {
   "cell_type": "code",
   "execution_count": 31,
   "metadata": {
    "collapsed": true
   },
   "outputs": [],
   "source": [
    "for i in pd1.index.values.tolist():\n",
    "    if pd1.iloc[i][' occupation'] == ' Priv-house-serv':\n",
    "        pd1.set_value(i, ' Priv-house-serv', 1)\n",
    "    else:\n",
    "        pd1.set_value(i, ' Priv-house-serv', 0)"
   ]
  },
  {
   "cell_type": "code",
   "execution_count": 32,
   "metadata": {
    "collapsed": true
   },
   "outputs": [],
   "source": [
    "for i in pd1.index.values.tolist():\n",
    "    if pd1.iloc[i][' occupation'] == ' Protective-serv':\n",
    "        pd1.set_value(i, ' Protective-serv', 1)\n",
    "    else:\n",
    "        pd1.set_value(i, ' Protective-serv', 0)"
   ]
  },
  {
   "cell_type": "code",
   "execution_count": 33,
   "metadata": {
    "collapsed": true
   },
   "outputs": [],
   "source": [
    "for i in pd1.index.values.tolist():\n",
    "    if pd1.iloc[i][' occupation'] == ' Armed-Forces':\n",
    "        pd1.set_value(i, ' Armed-Forces', 1)\n",
    "    else:\n",
    "        pd1.set_value(i, ' Armed-Forces', 0)"
   ]
  },
  {
   "cell_type": "code",
   "execution_count": 34,
   "metadata": {
    "collapsed": true
   },
   "outputs": [],
   "source": [
    "for i in pd1.index.values.tolist():\n",
    "    if pd1.iloc[i][' relationship'] == ' Husband':\n",
    "        pd1.set_value(i, ' Husband', 1)\n",
    "    elif pd1.iloc[i][' occupation'] == ' ?':\n",
    "        pd1.set_value(i, ' Husband', 1)\n",
    "    else:\n",
    "        pd1.set_value(i, ' Husband', 0)"
   ]
  },
  {
   "cell_type": "code",
   "execution_count": 35,
   "metadata": {
    "collapsed": true
   },
   "outputs": [],
   "source": [
    "for i in pd1.index.values.tolist():\n",
    "    if pd1.iloc[i][' relationship'] == ' Wife':\n",
    "        pd1.set_value(i, ' Wife', 1)\n",
    "    else:\n",
    "        pd1.set_value(i, ' Wife', 0)"
   ]
  },
  {
   "cell_type": "code",
   "execution_count": 36,
   "metadata": {
    "collapsed": true
   },
   "outputs": [],
   "source": [
    "for i in pd1.index.values.tolist():\n",
    "    if pd1.iloc[i][' relationship'] == ' Own-child':\n",
    "        pd1.set_value(i, ' Own-child', 1)\n",
    "    else:\n",
    "        pd1.set_value(i, ' Own-child', 0)"
   ]
  },
  {
   "cell_type": "code",
   "execution_count": 37,
   "metadata": {
    "collapsed": true
   },
   "outputs": [],
   "source": [
    "for i in pd1.index.values.tolist():\n",
    "    if pd1.iloc[i][' relationship'] == ' Not-in-family':\n",
    "        pd1.set_value(i, ' Not-in-family', 1)\n",
    "    else:\n",
    "        pd1.set_value(i, ' Not-in-family', 0)"
   ]
  },
  {
   "cell_type": "code",
   "execution_count": 38,
   "metadata": {
    "collapsed": true
   },
   "outputs": [],
   "source": [
    "for i in pd1.index.values.tolist():\n",
    "    if pd1.iloc[i][' relationship'] == ' Other-relative':\n",
    "        pd1.set_value(i, ' Other-relative', 1)\n",
    "    else:\n",
    "        pd1.set_value(i, ' Other-relative', 0)"
   ]
  },
  {
   "cell_type": "code",
   "execution_count": 39,
   "metadata": {
    "collapsed": true
   },
   "outputs": [],
   "source": [
    "for i in pd1.index.values.tolist():\n",
    "    if pd1.iloc[i][' relationship'] == ' Unmarried':\n",
    "        pd1.set_value(i, ' Unmarried', 1)\n",
    "    else:\n",
    "        pd1.set_value(i, ' Unmarried', 0)"
   ]
  },
  {
   "cell_type": "code",
   "execution_count": 40,
   "metadata": {
    "collapsed": true
   },
   "outputs": [],
   "source": [
    "for i in pd1.index.values.tolist():\n",
    "    if pd1.iloc[i][' race'] == ' White':\n",
    "        pd1.set_value(i, ' White', 1)\n",
    "    elif pd1.iloc[i][' race'] == ' ?':\n",
    "        pd1.set_value(i, ' White', 1)\n",
    "    else:\n",
    "        pd1.set_value(i, ' White', 0)"
   ]
  },
  {
   "cell_type": "code",
   "execution_count": 41,
   "metadata": {
    "collapsed": true
   },
   "outputs": [],
   "source": [
    "for i in pd1.index.values.tolist():\n",
    "    if pd1.iloc[i][' race'] == ' Asian-Pac-Islander':\n",
    "        pd1.set_value(i, ' Asian-Pac-Islander', 1)\n",
    "    else:\n",
    "        pd1.set_value(i, ' Asian-Pac-Islander', 0)"
   ]
  },
  {
   "cell_type": "code",
   "execution_count": 42,
   "metadata": {
    "collapsed": true
   },
   "outputs": [],
   "source": [
    "for i in pd1.index.values.tolist():\n",
    "    if pd1.iloc[i][' race'] == ' Amer-Indian-Eskimo':\n",
    "        pd1.set_value(i, ' Amer-Indian-Eskimo', 1)\n",
    "    else:\n",
    "        pd1.set_value(i, ' Amer-Indian-Eskimo', 0)"
   ]
  },
  {
   "cell_type": "code",
   "execution_count": 43,
   "metadata": {
    "collapsed": true
   },
   "outputs": [],
   "source": [
    "for i in pd1.index.values.tolist():\n",
    "    if pd1.iloc[i][' race'] == ' Other':\n",
    "        pd1.set_value(i, ' Other', 1)\n",
    "    else:\n",
    "        pd1.set_value(i, ' Other', 0)"
   ]
  },
  {
   "cell_type": "code",
   "execution_count": 44,
   "metadata": {
    "collapsed": true
   },
   "outputs": [],
   "source": [
    "for i in pd1.index.values.tolist():\n",
    "    if pd1.iloc[i][' race'] == ' Black':\n",
    "        pd1.set_value(i, ' Black', 1)\n",
    "    else:\n",
    "        pd1.set_value(i, ' Black', 0)"
   ]
  },
  {
   "cell_type": "code",
   "execution_count": 45,
   "metadata": {},
   "outputs": [],
   "source": [
    "for i in pd1.index.values.tolist():\n",
    "    if pd1.iloc[i][' native-country'] == ' United-States':\n",
    "        pd1.set_value(i, ' United-States', 1)\n",
    "    elif pd1.iloc[i][' native-country'] == ' ?':\n",
    "        pd1.set_value(i, ' United-States', 1)\n",
    "    else:\n",
    "        pd1.set_value(i, ' United-States', 0)"
   ]
  },
  {
   "cell_type": "code",
   "execution_count": 46,
   "metadata": {},
   "outputs": [],
   "source": [
    "for i in pd1.index.values.tolist():\n",
    "    if pd1.iloc[i][' native-country'] == ' Cambodia':\n",
    "        pd1.set_value(i, ' Cambodia', 1)\n",
    "    else:\n",
    "        pd1.set_value(i, ' Cambodia', 0)"
   ]
  },
  {
   "cell_type": "code",
   "execution_count": 47,
   "metadata": {},
   "outputs": [],
   "source": [
    "for i in pd1.index.values.tolist():\n",
    "    if pd1.iloc[i][' native-country'] == ' England':\n",
    "        pd1.set_value(i, ' England', 1)\n",
    "    else:\n",
    "        pd1.set_value(i, ' England', 0)"
   ]
  },
  {
   "cell_type": "code",
   "execution_count": 48,
   "metadata": {},
   "outputs": [],
   "source": [
    "for i in pd1.index.values.tolist():\n",
    "    if pd1.iloc[i][' native-country'] == ' Puerto-Rico':\n",
    "        pd1.set_value(i, ' Puerto-Rico', 1)\n",
    "    else:\n",
    "        pd1.set_value(i, ' Puerto-Rico', 0)"
   ]
  },
  {
   "cell_type": "code",
   "execution_count": 49,
   "metadata": {},
   "outputs": [],
   "source": [
    "for i in pd1.index.values.tolist():\n",
    "    if pd1.iloc[i][' native-country'] == ' Canada':\n",
    "        pd1.set_value(i, ' Canada', 1)\n",
    "    else:\n",
    "        pd1.set_value(i, ' Canada', 0)"
   ]
  },
  {
   "cell_type": "code",
   "execution_count": 50,
   "metadata": {},
   "outputs": [],
   "source": [
    "for i in pd1.index.values.tolist():\n",
    "    if pd1.iloc[i][' native-country'] == ' Germany':\n",
    "        pd1.set_value(i, ' Germany', 1)\n",
    "    else:\n",
    "        pd1.set_value(i, ' Germany', 0)"
   ]
  },
  {
   "cell_type": "code",
   "execution_count": 51,
   "metadata": {},
   "outputs": [],
   "source": [
    "for i in pd1.index.values.tolist():\n",
    "    if pd1.iloc[i][' native-country'] == ' Outlying-US(Guam-USVI-etc)':\n",
    "        pd1.set_value(i, ' Outlying-US(Guam-USVI-etc)', 1)\n",
    "    else:\n",
    "        pd1.set_value(i, ' Outlying-US(Guam-USVI-etc)', 0)"
   ]
  },
  {
   "cell_type": "code",
   "execution_count": 52,
   "metadata": {},
   "outputs": [],
   "source": [
    "for i in pd1.index.values.tolist():\n",
    "    if pd1.iloc[i][' native-country'] == ' India':\n",
    "        pd1.set_value(i, ' India', 1)\n",
    "    else:\n",
    "        pd1.set_value(i, ' India', 0)"
   ]
  },
  {
   "cell_type": "code",
   "execution_count": 53,
   "metadata": {},
   "outputs": [],
   "source": [
    "for i in pd1.index.values.tolist():\n",
    "    if pd1.iloc[i][' native-country'] == ' Japan':\n",
    "        pd1.set_value(i, ' Japan', 1)\n",
    "    else:\n",
    "        pd1.set_value(i, ' Japan', 0)"
   ]
  },
  {
   "cell_type": "code",
   "execution_count": 54,
   "metadata": {},
   "outputs": [],
   "source": [
    "for i in pd1.index.values.tolist():\n",
    "    if pd1.iloc[i][' native-country'] == ' Greece':\n",
    "        pd1.set_value(i, ' Greece', 1)\n",
    "    else:\n",
    "        pd1.set_value(i, ' Greece', 0)"
   ]
  },
  {
   "cell_type": "code",
   "execution_count": 55,
   "metadata": {
    "collapsed": true
   },
   "outputs": [],
   "source": [
    "for i in pd1.index.values.tolist():\n",
    "    if pd1.iloc[i][' native-country'] == ' South':\n",
    "        pd1.set_value(i, ' South', 1)\n",
    "    else:\n",
    "        pd1.set_value(i, ' South', 0)"
   ]
  },
  {
   "cell_type": "code",
   "execution_count": 56,
   "metadata": {
    "collapsed": true
   },
   "outputs": [],
   "source": [
    "for i in pd1.index.values.tolist():\n",
    "    if pd1.iloc[i][' native-country'] == ' China':\n",
    "        pd1.set_value(i, ' China', 1)\n",
    "    else:\n",
    "        pd1.set_value(i, ' China', 0)"
   ]
  },
  {
   "cell_type": "code",
   "execution_count": 57,
   "metadata": {
    "collapsed": true
   },
   "outputs": [],
   "source": [
    "for i in pd1.index.values.tolist():\n",
    "    if pd1.iloc[i][' native-country'] == ' Cuba':\n",
    "        pd1.set_value(i, ' Cuba', 1)\n",
    "    else:\n",
    "        pd1.set_value(i, ' Cuba', 0)"
   ]
  },
  {
   "cell_type": "code",
   "execution_count": 58,
   "metadata": {
    "collapsed": true
   },
   "outputs": [],
   "source": [
    "for i in pd1.index.values.tolist():\n",
    "    if pd1.iloc[i][' native-country'] == ' Iran':\n",
    "        pd1.set_value(i, ' Iran', 1)\n",
    "    else:\n",
    "        pd1.set_value(i, ' Iran', 0)"
   ]
  },
  {
   "cell_type": "code",
   "execution_count": 59,
   "metadata": {
    "collapsed": true
   },
   "outputs": [],
   "source": [
    "for i in pd1.index.values.tolist():\n",
    "    if pd1.iloc[i][' native-country'] == ' Honduras':\n",
    "        pd1.set_value(i, ' Honduras', 1)\n",
    "    else:\n",
    "        pd1.set_value(i, ' Honduras', 0)"
   ]
  },
  {
   "cell_type": "code",
   "execution_count": 60,
   "metadata": {
    "collapsed": true
   },
   "outputs": [],
   "source": [
    "for i in pd1.index.values.tolist():\n",
    "    if pd1.iloc[i][' native-country'] == ' Philippines':\n",
    "        pd1.set_value(i, ' Philippines', 1)\n",
    "    else:\n",
    "        pd1.set_value(i, ' Philippines', 0)"
   ]
  },
  {
   "cell_type": "code",
   "execution_count": 61,
   "metadata": {
    "collapsed": true
   },
   "outputs": [],
   "source": [
    "for i in pd1.index.values.tolist():\n",
    "    if pd1.iloc[i][' native-country'] == ' Italy':\n",
    "        pd1.set_value(i, ' Italy', 1)\n",
    "    else:\n",
    "        pd1.set_value(i, ' Italy', 0)"
   ]
  },
  {
   "cell_type": "code",
   "execution_count": 62,
   "metadata": {
    "collapsed": true
   },
   "outputs": [],
   "source": [
    "for i in pd1.index.values.tolist():\n",
    "    if pd1.iloc[i][' native-country'] == ' Poland':\n",
    "        pd1.set_value(i, ' Poland', 1)\n",
    "    else:\n",
    "        pd1.set_value(i, ' Poland', 0)"
   ]
  },
  {
   "cell_type": "code",
   "execution_count": 63,
   "metadata": {
    "collapsed": true
   },
   "outputs": [],
   "source": [
    "for i in pd1.index.values.tolist():\n",
    "    if pd1.iloc[i][' native-country'] == ' Jamaica':\n",
    "        pd1.set_value(i, ' Jamaica', 1)\n",
    "    else:\n",
    "        pd1.set_value(i, ' Jamaica', 0)"
   ]
  },
  {
   "cell_type": "code",
   "execution_count": 64,
   "metadata": {
    "collapsed": true
   },
   "outputs": [],
   "source": [
    "for i in pd1.index.values.tolist():\n",
    "    if pd1.iloc[i][' native-country'] == ' Vietnam':\n",
    "        pd1.set_value(i, ' Vietnam', 1)\n",
    "    else:\n",
    "        pd1.set_value(i, ' Vietnam', 0)"
   ]
  },
  {
   "cell_type": "code",
   "execution_count": 65,
   "metadata": {
    "collapsed": true
   },
   "outputs": [],
   "source": [
    "for i in pd1.index.values.tolist():\n",
    "    if pd1.iloc[i][' native-country'] == ' Mexico':\n",
    "        pd1.set_value(i, ' Mexico', 1)\n",
    "    else:\n",
    "        pd1.set_value(i, ' Mexico', 0)"
   ]
  },
  {
   "cell_type": "code",
   "execution_count": 66,
   "metadata": {
    "collapsed": true
   },
   "outputs": [],
   "source": [
    "for i in pd1.index.values.tolist():\n",
    "    if pd1.iloc[i][' native-country'] == ' Portugal':\n",
    "        pd1.set_value(i, ' Portugal', 1)\n",
    "    else:\n",
    "        pd1.set_value(i, ' Portugal', 0)"
   ]
  },
  {
   "cell_type": "code",
   "execution_count": 67,
   "metadata": {
    "collapsed": true
   },
   "outputs": [],
   "source": [
    "for i in pd1.index.values.tolist():\n",
    "    if pd1.iloc[i][' native-country'] == ' Ireland':\n",
    "        pd1.set_value(i, ' Ireland', 1)\n",
    "    else:\n",
    "        pd1.set_value(i, ' Ireland', 0)"
   ]
  },
  {
   "cell_type": "code",
   "execution_count": 68,
   "metadata": {
    "collapsed": true
   },
   "outputs": [],
   "source": [
    "for i in pd1.index.values.tolist():\n",
    "    if pd1.iloc[i][' native-country'] == ' France':\n",
    "        pd1.set_value(i, ' France', 1)\n",
    "    else:\n",
    "        pd1.set_value(i, ' France', 0)"
   ]
  },
  {
   "cell_type": "code",
   "execution_count": 69,
   "metadata": {
    "collapsed": true
   },
   "outputs": [],
   "source": [
    "for i in pd1.index.values.tolist():\n",
    "    if pd1.iloc[i][' native-country'] == ' Dominican-Republic':\n",
    "        pd1.set_value(i, ' Dominican-Republic', 1)\n",
    "    else:\n",
    "        pd1.set_value(i, ' Dominican-Republic', 0)"
   ]
  },
  {
   "cell_type": "code",
   "execution_count": 70,
   "metadata": {
    "collapsed": true
   },
   "outputs": [],
   "source": [
    "for i in pd1.index.values.tolist():\n",
    "    if pd1.iloc[i][' native-country'] == ' Laos':\n",
    "        pd1.set_value(i, ' Laos', 1)\n",
    "    else:\n",
    "        pd1.set_value(i, ' Laos', 0)"
   ]
  },
  {
   "cell_type": "code",
   "execution_count": 71,
   "metadata": {
    "collapsed": true
   },
   "outputs": [],
   "source": [
    "for i in pd1.index.values.tolist():\n",
    "    if pd1.iloc[i][' native-country'] == ' Ecuador':\n",
    "        pd1.set_value(i, ' Ecuador', 1)\n",
    "    else:\n",
    "        pd1.set_value(i, ' Ecuador', 0)"
   ]
  },
  {
   "cell_type": "code",
   "execution_count": 72,
   "metadata": {
    "collapsed": true
   },
   "outputs": [],
   "source": [
    "for i in pd1.index.values.tolist():\n",
    "    if pd1.iloc[i][' native-country'] == ' Taiwan':\n",
    "        pd1.set_value(i, ' Taiwan', 1)\n",
    "    else:\n",
    "        pd1.set_value(i, ' Taiwan', 0)"
   ]
  },
  {
   "cell_type": "code",
   "execution_count": 73,
   "metadata": {
    "collapsed": true
   },
   "outputs": [],
   "source": [
    "for i in pd1.index.values.tolist():\n",
    "    if pd1.iloc[i][' native-country'] == ' Haiti':\n",
    "        pd1.set_value(i, ' Haiti', 1)\n",
    "    else:\n",
    "        pd1.set_value(i, ' Haiti', 0)"
   ]
  },
  {
   "cell_type": "code",
   "execution_count": 74,
   "metadata": {
    "collapsed": true
   },
   "outputs": [],
   "source": [
    "for i in pd1.index.values.tolist():\n",
    "    if pd1.iloc[i][' native-country'] == ' Columbia':\n",
    "        pd1.set_value(i, ' Columbia', 1)\n",
    "    else:\n",
    "        pd1.set_value(i, ' Columbia', 0)"
   ]
  },
  {
   "cell_type": "code",
   "execution_count": 75,
   "metadata": {
    "collapsed": true
   },
   "outputs": [],
   "source": [
    "for i in pd1.index.values.tolist():\n",
    "    if pd1.iloc[i][' native-country'] == ' Hungary':\n",
    "        pd1.set_value(i, ' Hungary', 1)\n",
    "    else:\n",
    "        pd1.set_value(i, ' Hungary', 0)"
   ]
  },
  {
   "cell_type": "code",
   "execution_count": 76,
   "metadata": {
    "collapsed": true
   },
   "outputs": [],
   "source": [
    "for i in pd1.index.values.tolist():\n",
    "    if pd1.iloc[i][' native-country'] == ' Guatemala':\n",
    "        pd1.set_value(i, ' Guatemala', 1)\n",
    "    else:\n",
    "        pd1.set_value(i, ' Guatemala', 0)"
   ]
  },
  {
   "cell_type": "code",
   "execution_count": 77,
   "metadata": {
    "collapsed": true
   },
   "outputs": [],
   "source": [
    "for i in pd1.index.values.tolist():\n",
    "    if pd1.iloc[i][' native-country'] == ' Nicaragua':\n",
    "        pd1.set_value(i, ' Nicaragua', 1)\n",
    "    else:\n",
    "        pd1.set_value(i, ' Nicaragua', 0)"
   ]
  },
  {
   "cell_type": "code",
   "execution_count": 78,
   "metadata": {
    "collapsed": true
   },
   "outputs": [],
   "source": [
    "for i in pd1.index.values.tolist():\n",
    "    if pd1.iloc[i][' native-country'] == ' Scotland':\n",
    "        pd1.set_value(i, ' Scotland', 1)\n",
    "    else:\n",
    "        pd1.set_value(i, ' Scotland', 0)"
   ]
  },
  {
   "cell_type": "code",
   "execution_count": 79,
   "metadata": {
    "collapsed": true
   },
   "outputs": [],
   "source": [
    "for i in pd1.index.values.tolist():\n",
    "    if pd1.iloc[i][' native-country'] == ' Thailand':\n",
    "        pd1.set_value(i, ' Thailand', 1)\n",
    "    else:\n",
    "        pd1.set_value(i, ' Thailand', 0)"
   ]
  },
  {
   "cell_type": "code",
   "execution_count": 80,
   "metadata": {
    "collapsed": true
   },
   "outputs": [],
   "source": [
    "for i in pd1.index.values.tolist():\n",
    "    if pd1.iloc[i][' native-country'] == ' Yugoslavia':\n",
    "        pd1.set_value(i, ' Yugoslavia', 1)\n",
    "    else:\n",
    "        pd1.set_value(i, ' Yugoslavia', 0)"
   ]
  },
  {
   "cell_type": "code",
   "execution_count": 81,
   "metadata": {
    "collapsed": true
   },
   "outputs": [],
   "source": [
    "for i in pd1.index.values.tolist():\n",
    "    if pd1.iloc[i][' native-country'] == ' El-Salvador':\n",
    "        pd1.set_value(i, ' El-Salvador', 1)\n",
    "    else:\n",
    "        pd1.set_value(i, ' El-Salvador', 0)"
   ]
  },
  {
   "cell_type": "code",
   "execution_count": 82,
   "metadata": {
    "collapsed": true
   },
   "outputs": [],
   "source": [
    "for i in pd1.index.values.tolist():\n",
    "    if pd1.iloc[i][' native-country'] == ' Trinadad&Tobago':\n",
    "        pd1.set_value(i, ' Trinadad&Tobago', 1)\n",
    "    else:\n",
    "        pd1.set_value(i, ' Trinadad&Tobago', 0)"
   ]
  },
  {
   "cell_type": "code",
   "execution_count": 83,
   "metadata": {
    "collapsed": true
   },
   "outputs": [],
   "source": [
    "for i in pd1.index.values.tolist():\n",
    "    if pd1.iloc[i][' native-country'] == ' Peru':\n",
    "        pd1.set_value(i, ' Peru', 1)\n",
    "    else:\n",
    "        pd1.set_value(i, ' Peru', 0)"
   ]
  },
  {
   "cell_type": "code",
   "execution_count": 84,
   "metadata": {
    "collapsed": true
   },
   "outputs": [],
   "source": [
    "for i in pd1.index.values.tolist():\n",
    "    if pd1.iloc[i][' native-country'] == ' Hong':\n",
    "        pd1.set_value(i, ' Hong', 1)\n",
    "    else:\n",
    "        pd1.set_value(i, ' Hong', 0)"
   ]
  },
  {
   "cell_type": "code",
   "execution_count": 85,
   "metadata": {
    "collapsed": true
   },
   "outputs": [],
   "source": [
    "for i in pd1.index.values.tolist():\n",
    "    if pd1.iloc[i][' native-country'] == ' Holand-Netherlands':\n",
    "        pd1.set_value(i, ' Holand-Netherlands', 1)\n",
    "    else:\n",
    "        pd1.set_value(i, ' Holand-Netherlands', 0)"
   ]
  },
  {
   "cell_type": "code",
   "execution_count": 91,
   "metadata": {
    "collapsed": true
   },
   "outputs": [],
   "source": [
    "for i in pd1.index.values.tolist():\n",
    "    if pd1.iloc[i]['income'] == ' >50K':\n",
    "        pd1.set_value(i, 'income', 1)\n",
    "    else:\n",
    "        pd1.set_value(i, 'income', 0)"
   ]
  },
  {
   "cell_type": "code",
   "execution_count": 88,
   "metadata": {},
   "outputs": [],
   "source": [
    "pd1 = pd1.drop([' workclass', ' marital-status', ' occupation', ' relationship', ' race', ' native-country'], axis=1)"
   ]
  },
  {
   "cell_type": "code",
   "execution_count": 97,
   "metadata": {},
   "outputs": [],
   "source": [
    "pd1.to_csv('CensusIncomePreProcessed.csv')"
   ]
  },
  {
   "cell_type": "code",
   "execution_count": 95,
   "metadata": {
    "collapsed": true
   },
   "outputs": [],
   "source": [
    "pd1 = pd1.drop(' income', axis=1)"
   ]
  },
  {
   "cell_type": "code",
   "execution_count": null,
   "metadata": {
    "collapsed": true
   },
   "outputs": [],
   "source": []
  },
  {
   "cell_type": "code",
   "execution_count": 110,
   "metadata": {
    "scrolled": true
   },
   "outputs": [
    {
     "ename": "TypeError",
     "evalue": "list indices must be integers or slices, not tuple",
     "output_type": "error",
     "traceback": [
      "\u001b[1;31m---------------------------------------------------------------------------\u001b[0m",
      "\u001b[1;31mTypeError\u001b[0m                                 Traceback (most recent call last)",
      "\u001b[1;32m<ipython-input-110-8fc0b5605485>\u001b[0m in \u001b[0;36m<module>\u001b[1;34m()\u001b[0m\n\u001b[0;32m      6\u001b[0m \u001b[1;32mfrom\u001b[0m \u001b[0msklearn\u001b[0m\u001b[1;33m.\u001b[0m\u001b[0mpreprocessing\u001b[0m \u001b[1;32mimport\u001b[0m \u001b[0mImputer\u001b[0m\u001b[1;33m\u001b[0m\u001b[0m\n\u001b[0;32m      7\u001b[0m \u001b[0mimputer\u001b[0m \u001b[1;33m=\u001b[0m \u001b[0mImputer\u001b[0m\u001b[1;33m(\u001b[0m\u001b[0mmissing_values\u001b[0m \u001b[1;33m=\u001b[0m \u001b[1;34m''\u001b[0m\u001b[1;33m,\u001b[0m \u001b[0mstrategy\u001b[0m\u001b[1;33m=\u001b[0m\u001b[1;34m'most_frequent'\u001b[0m\u001b[1;33m,\u001b[0m \u001b[0maxis\u001b[0m\u001b[1;33m=\u001b[0m\u001b[1;36m0\u001b[0m\u001b[1;33m)\u001b[0m\u001b[1;33m\u001b[0m\u001b[0m\n\u001b[1;32m----> 8\u001b[1;33m \u001b[0mimputer\u001b[0m \u001b[1;33m=\u001b[0m \u001b[0mImputer\u001b[0m\u001b[1;33m.\u001b[0m\u001b[0mfit\u001b[0m\u001b[1;33m(\u001b[0m\u001b[0mX\u001b[0m\u001b[1;33m[\u001b[0m\u001b[1;33m:\u001b[0m\u001b[1;33m,\u001b[0m\u001b[1;33m:\u001b[0m\u001b[1;33m]\u001b[0m\u001b[1;33m)\u001b[0m\u001b[1;33m\u001b[0m\u001b[0m\n\u001b[0m\u001b[0;32m      9\u001b[0m \u001b[0mX\u001b[0m\u001b[1;33m[\u001b[0m\u001b[1;33m:\u001b[0m\u001b[1;33m,\u001b[0m\u001b[1;33m:\u001b[0m\u001b[1;33m]\u001b[0m \u001b[1;33m=\u001b[0m \u001b[0mimputer\u001b[0m\u001b[1;33m.\u001b[0m\u001b[0mtransform\u001b[0m\u001b[1;33m(\u001b[0m\u001b[0mx\u001b[0m\u001b[1;33m[\u001b[0m\u001b[1;33m:\u001b[0m\u001b[1;33m,\u001b[0m\u001b[1;33m:\u001b[0m\u001b[1;33m]\u001b[0m\u001b[1;33m)\u001b[0m\u001b[1;33m\u001b[0m\u001b[0m\n\u001b[0;32m     10\u001b[0m \u001b[1;32mfrom\u001b[0m \u001b[0msklearn\u001b[0m \u001b[1;32mimport\u001b[0m \u001b[0mtree\u001b[0m\u001b[1;33m\u001b[0m\u001b[0m\n",
      "\u001b[1;31mTypeError\u001b[0m: list indices must be integers or slices, not tuple"
     ]
    }
   ],
   "source": [
    "pd1 = pd.read_csv('CensusIncomePreProcessed.csv')\n",
    "pd1.head()\n",
    "X = pd1.iloc[:, 0:-1].values.tolist()\n",
    "Y = pd1.iloc[:, -1].values.tolist()\n",
    "\n",
    "from sklearn.preprocessing import Imputer\n",
    "imputer = Imputer(missing_values = '', strategy='most_frequent', axis=0)\n",
    "imputer = Imputer.fit(X[:,:])\n",
    "X[:,:] = imputer.transform(x[:,:])\n",
    "from sklearn import tree\n",
    "\n",
    "clf1 = tree.DecisionTreeClassifier()\n",
    "clf1 = clf1.fit(X,Y)\n",
    "\n",
    "#Split data 90%/10\n",
    "\n",
    "X_train, X_test, Y_train, Y_test = train_test_split(X, Y, test_size=0.1, random_state=42)\n",
    "\n",
    "# Akurasi Full\n",
    "y_pred = clf1.predict(X_train)\n",
    "print('Akurasi =', accuracy_score(Y_test, y_pred))\n",
    "\n",
    "# Confusion Matrix\n",
    "cm = confusion_matrix(Y_test, y_pred)\n",
    "print('Confusion Matrix =\\n', cm)\n",
    "\n",
    "#Full-training MLP\n",
    "from sklearn.neural_network import MLPClassifier\n",
    "clf2 = MLPClassifier(solver='lbfgs', alpha=1e-5, hidden_layer_sizes=(15, 3), random_state=1)\n",
    "clf2.fit(X, Y)\n",
    "\n",
    "#Split data 90%/10%\n",
    "from sklearn.model_selection import train_test_split, KFold, cross_val_score\n",
    "\n",
    "X_train, X_test, Y_train, Y_test = train_test_split(X, Y, test_size=0.1, random_state=42)\n",
    "\n",
    "# Akurasi Full\n",
    "y_pred = clf2.predict(X_train)\n",
    "print('Akurasi =', accuracy_score(Y_test, y_pred))\n",
    "\n",
    "# Confusion Matrix\n",
    "cm = confusion_matrix(Y_test, y_pred)\n",
    "print('Confusion Matrix =\\n', cm)\n",
    "\n"
   ]
  }
 ],
 "metadata": {
  "kernelspec": {
   "display_name": "Python 3",
   "language": "python",
   "name": "python3"
  },
  "language_info": {
   "codemirror_mode": {
    "name": "ipython",
    "version": 3
   },
   "file_extension": ".py",
   "mimetype": "text/x-python",
   "name": "python",
   "nbconvert_exporter": "python",
   "pygments_lexer": "ipython3",
   "version": "3.6.1"
  }
 },
 "nbformat": 4,
 "nbformat_minor": 2
}
